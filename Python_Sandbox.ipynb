{
  "nbformat": 4,
  "nbformat_minor": 0,
  "metadata": {
    "colab": {
      "name": "Python_Sandbox",
      "provenance": [],
      "authorship_tag": "ABX9TyM/ZRuCQoT9RZ6bpQhH4XSz",
      "include_colab_link": true
    },
    "kernelspec": {
      "name": "python3",
      "display_name": "Python 3"
    },
    "language_info": {
      "name": "python"
    }
  },
  "cells": [
    {
      "cell_type": "markdown",
      "metadata": {
        "id": "view-in-github",
        "colab_type": "text"
      },
      "source": [
        "<a href=\"https://colab.research.google.com/github/gemma24/my_first_repo/blob/main/Python_Sandbox.ipynb\" target=\"_parent\"><img src=\"https://colab.research.google.com/assets/colab-badge.svg\" alt=\"Open In Colab\"/></a>"
      ]
    },
    {
      "cell_type": "markdown",
      "metadata": {
        "id": "pxfU22VaPdIU"
      },
      "source": [
        "#Algorithm\n",
        "1. Get the ticker symbol from the user\n",
        "2. Use the symbol to goto the propile page\n",
        "3. Get the Table\n",
        "* for each row get the pay\n",
        "* Use pay to calculate tax\n",
        "* Add tax to to table\n",
        "\n",
        "4. Save as Csv\n",
        "5. Save as SQL"
      ]
    },
    {
      "cell_type": "code",
      "metadata": {
        "colab": {
          "base_uri": "https://localhost:8080/"
        },
        "id": "ayKaOZrrPyhV",
        "outputId": "df5ed340-06ce-42e4-f4c1-e412f33475cc"
      },
      "source": [
        "ticker = input(\"Please type in a ticker symbol \")"
      ],
      "execution_count": 2,
      "outputs": [
        {
          "name": "stdout",
          "output_type": "stream",
          "text": [
            "Please type in a ticker symbol symbolnab.ax\n"
          ]
        }
      ]
    },
    {
      "cell_type": "code",
      "metadata": {
        "id": "m3LDHLx4QE3l"
      },
      "source": [
        ""
      ],
      "execution_count": null,
      "outputs": []
    },
    {
      "cell_type": "markdown",
      "metadata": {
        "id": "VTZO2Z05QUK8"
      },
      "source": [
        "#Helpful functions\n",
        "* type()\n",
        "* len()\n",
        "* dir()\n",
        "* help()"
      ]
    },
    {
      "cell_type": "code",
      "metadata": {
        "colab": {
          "base_uri": "https://localhost:8080/"
        },
        "id": "nPeuzSkyQoPR",
        "outputId": "b9114032-5f02-4477-97aa-8b09a2a1e280"
      },
      "source": [
        "num_list = [1,2,3,4,5]\n",
        "len(num_list)"
      ],
      "execution_count": 3,
      "outputs": [
        {
          "output_type": "execute_result",
          "data": {
            "text/plain": [
              "5"
            ]
          },
          "metadata": {},
          "execution_count": 3
        }
      ]
    },
    {
      "cell_type": "code",
      "metadata": {
        "id": "Nfwb5kWVRB1E"
      },
      "source": [
        ""
      ],
      "execution_count": null,
      "outputs": []
    }
  ]
}