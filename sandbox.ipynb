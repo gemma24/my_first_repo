{
  "nbformat": 4,
  "nbformat_minor": 0,
  "metadata": {
    "colab": {
      "name": "sandbox.ipynb",
      "provenance": [],
      "include_colab_link": true
    },
    "kernelspec": {
      "name": "python3",
      "display_name": "Python 3"
    },
    "language_info": {
      "name": "python"
    }
  },
  "cells": [
    {
      "cell_type": "markdown",
      "metadata": {
        "id": "view-in-github",
        "colab_type": "text"
      },
      "source": [
        "<a href=\"https://colab.research.google.com/github/gemma24/my_first_repo/blob/main/sandbox.ipynb\" target=\"_parent\"><img src=\"https://colab.research.google.com/assets/colab-badge.svg\" alt=\"Open In Colab\"/></a>"
      ]
    },
    {
      "cell_type": "markdown",
      "metadata": {
        "id": "-6KbIlvNBicQ"
      },
      "source": [
        "# Exploring the assignment\n",
        "\n",
        "## Website \n",
        "\n",
        "[Yahoo Finance](https://au.finance.yahoo.com/)\n",
        "\n",
        "## Inputs\n",
        "\n",
        "* Prompt for a ticker symbol. Find out what is a ticker symbol?\n",
        "\n",
        "## Processing\n",
        "\n",
        "* Get income from webpae.  Which page?\n",
        "* Calculate Tax (using income)\n",
        "\n",
        "## Outputs\n",
        "\n",
        "* Save to CSV file (How, use CSV or Pandas?)\n",
        "* Save to SQLIte (See week on databases)\n",
        "\n",
        "\n",
        "\n",
        "\n",
        "### Exploring the Website\n",
        "\n",
        "Stock Ticker Symbol:  A stock symbol is a unique series of letters assigned to a security for trading purposes.  From https://www.investopedia.com/terms/s/stocksymbol.asp\n",
        "\n",
        "Ticker can be for any company on the exchange\n",
        "\n",
        "**TODO: How to make sure ticker is valid**\n",
        "\n",
        "Note once found page, need to click on the 'Profile' tab.\n",
        "\n",
        "For NAB.AX the profile page is:\n",
        "\n",
        "https://au.finance.yahoo.com/quote/NAB.AX/profile?p=NAB.AX\n",
        "\n",
        "For BHP.AX:\n",
        "\n",
        "https://au.finance.yahoo.com/quote/BHP.AX/profile?p=BHP.AX\n",
        "\n",
        "\n",
        "For COL.AX (Coles Group)\n",
        "\n",
        "https://au.finance.yahoo.com/quote/COL.AX/profile?p=COL.AX\n",
        "\n",
        "\n",
        "Interesting, the ticker symbol appears twice in the URL.\n",
        "\n",
        "I will need to create a template or something that I can add the ticker symbol to.\n",
        "\n",
        "**TODO: Work out how to add the ticker symbol to the URL**\n"
      ]
    },
    {
      "cell_type": "code",
      "metadata": {
        "id": "0kRyl6qxCjsH"
      },
      "source": [
        ""
      ],
      "execution_count": null,
      "outputs": []
    },
    {
      "cell_type": "markdown",
      "metadata": {
        "id": "xSOuOG95GF2U"
      },
      "source": [
        "# Try to work an example by hand\n",
        "\n",
        "Here is the table from the website for COL.AX\n",
        "\n",
        "```\n",
        "Name\tTitle\tPay\tExercised\tYear born\n",
        "Mr. Steven Cain\tMD, CEO & Director\t3.33M\tN/A\t1965\n",
        "Ms. Leah Weckert\tChief Financial Officer\t1.8M\tN/A\tN/A\n",
        "Mr. Matthew Swindells\tChief Operations Officer\t1.58M\tN/A\tN/A\n",
        "Mr. Greg Davis\tChief Exec. - Commercial & Express\t1.61M\tN/A\tN/A\n",
        "Mr. John Cox\tChief Technology Officer\tN/A\tN/A\tN/A\n",
        "Mark Howell\tGen. Mang. of Investor Relations\tN/A\tN/A\tN/A\n",
        "Mr. David Brewster\tChief Legal Officer\tN/A\tN/A\tN/A\n",
        "Ms. Lisa Ronson\tChief Marketing Officer\tN/A\tN/A\tN/A\n",
        "Ms. Kris Webb\tChief People Officer\tN/A\tN/A\tN/A\n",
        "Mr. Thinus Keeve\tChief Sustainability, Property & Export Officer\tN/A\tN/A\tN/A\n",
        "\n",
        "```\n",
        "\n",
        "Lecturer clarified we only need Name, Title, Pay\n",
        "\n",
        "Let consider one row, and only name title and pay\n",
        "\n",
        "```\n",
        "Name\t              Title\t          Pay\n",
        "Mr. Steven Cain\tMD, CEO & Director\t3.33M\n",
        "```\n",
        "\n",
        "Note, 1st collum is the name, the second is title and thrid is pay.\n",
        "\n",
        "**TODO:  Work out how get each colum/cell in the table**\n",
        "\n",
        "### Want to calculate the tax\n",
        "* Need to get the pay\n",
        "\n",
        "*Note: We did a calculate tax in a earlier lab, will revist later*\n",
        "\n",
        "See: https://github.com/michael-borck/ISYS5002_portfolio/blob/main/tax_calculation.ipynb\n",
        "\n",
        "\n",
        "\n",
        "```\n",
        "def calculate_tax(income):\n",
        "  if income <= 18200:\n",
        "    tax_payable = 0\n",
        "  elif 18200 < income <= 45000:\n",
        "    tax_payable = 0.19 * (income - 18200)\n",
        "  elif 45000 < income < 120000:\n",
        "    tax_payable = 5092 + 0.32 * (income - 45000)\n",
        "\n",
        "  return tax_payable\n",
        "```\n",
        "\n",
        "\n",
        "\n",
        "I need the dollar amount to calculate the tax.\n",
        "\n",
        "So Pay (or Salray) is 3.33M. Need to extract the 3.33 and multiply is by 1000,000 to give me the dollar amount.  Thne use this dollar amouunt to calculate the tax.\n",
        "\n",
        "**TODO:  Work out where I need to save the tax payable**\n",
        "\n"
      ]
    },
    {
      "cell_type": "code",
      "metadata": {
        "colab": {
          "base_uri": "https://localhost:8080/"
        },
        "id": "bpD3tO-2JgHK",
        "outputId": "9b46837a-e069-459a-96cf-306a9b5fedae"
      },
      "source": [
        "3.33 * 1000000"
      ],
      "execution_count": null,
      "outputs": [
        {
          "output_type": "execute_result",
          "data": {
            "text/plain": [
              "3330000.0"
            ]
          },
          "metadata": {},
          "execution_count": 1
        }
      ]
    },
    {
      "cell_type": "markdown",
      "metadata": {
        "id": "6YoatthFJg3B"
      },
      "source": [
        "### Lets do another row, this time fom NAB.AX\n",
        "\n",
        "```\n",
        "Ms. Sharon J. Cook\tGroup Exec. of Legal & Commercial Services\t912.98k\n",
        "```\n",
        "\n",
        "Notice that the pay/salary is 912.98k  So I need to extract the 912.98 and multiply by 1000."
      ]
    },
    {
      "cell_type": "code",
      "metadata": {
        "colab": {
          "base_uri": "https://localhost:8080/"
        },
        "id": "K0lxdDBpGaE7",
        "outputId": "27f46b48-f2f9-4572-9bbe-fb4c87a434a6"
      },
      "source": [
        "912.98 * 1000"
      ],
      "execution_count": null,
      "outputs": [
        {
          "output_type": "execute_result",
          "data": {
            "text/plain": [
              "912980.0"
            ]
          },
          "metadata": {},
          "execution_count": 2
        }
      ]
    },
    {
      "cell_type": "markdown",
      "metadata": {
        "id": "oZKQ__aCJyqL"
      },
      "source": [
        "# Want to output...\n",
        "\n",
        "1. First create a table\n",
        "\n",
        "```\n",
        "Name, Title, Pay, Tax\n",
        "```\n",
        "\n",
        "**TODO How do I add a column**\n",
        "\n",
        "2. Save as CSV file\n",
        "\n",
        "*Note:  Look at notebook to see how to save as CSV**\n",
        "\n",
        "https://lms.curtin.edu.au/webapps/blackboard/content/listContentEditable.jsp?content_id=_9350025_1&course_id=_110320_1\n",
        "\n",
        "3. Save as SQLite Database\n",
        "\n",
        "*Note:  Look at notebook to see how to save as SQLite**\n",
        "\n",
        "https://github.com/michael-borck/ISYS5002_portfolio/blob/main/sql_shell_LIVE.ipynb\n",
        "\n",
        "\n"
      ]
    },
    {
      "cell_type": "code",
      "metadata": {
        "id": "AHnQgWylKVZn"
      },
      "source": [
        ""
      ],
      "execution_count": null,
      "outputs": []
    },
    {
      "cell_type": "markdown",
      "metadata": {
        "id": "vrMujVNDOTfP"
      },
      "source": [
        "#Algorithm\n",
        "1. Get the ticker symbol from the user\n",
        "2. Use the symbol to goto the propile page\n",
        "3. Get the Table\n",
        "* for each row get the pay\n",
        "* Use pay to calculate tax\n",
        "* Add tax to to table\n",
        "\n",
        "4. Save as Csv\n",
        "5. Save as SQL"
      ]
    }
  ]
}