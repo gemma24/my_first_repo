{
  "nbformat": 4,
  "nbformat_minor": 0,
  "metadata": {
    "colab": {
      "name": "tax_calculation.ipynb",
      "provenance": [],
      "include_colab_link": true
    },
    "kernelspec": {
      "name": "python3",
      "display_name": "Python 3"
    },
    "language_info": {
      "name": "python"
    }
  },
  "cells": [
    {
      "cell_type": "markdown",
      "metadata": {
        "id": "view-in-github",
        "colab_type": "text"
      },
      "source": [
        "<a href=\"https://colab.research.google.com/github/gemma24/my_first_repo/blob/main/tax_calculation.ipynb\" target=\"_parent\"><img src=\"https://colab.research.google.com/assets/colab-badge.svg\" alt=\"Open In Colab\"/></a>"
      ]
    },
    {
      "cell_type": "markdown",
      "metadata": {
        "id": "bVMwNyExqHgH"
      },
      "source": [
        "Write a program the prompts the user for their income and caclualtes the tax payable.\n",
        "\n",
        "[Resident tax rates 2021–22\n",
        "Taxable income](https://www.ato.gov.au/rates/individual-income-tax-rates/)\n",
        "\n",
        "Income            | Tax on this income \n",
        "------------------|----------------------\n",
        "0 – \\$18,200       | Nil\n",
        "\\$18,201 – \\$45,000 | 19 cents for each \\$1 over \\$18,200\n",
        "\\$45,001 – \\$120,000 | \\$5,092 plus 32.5 cents for each \\$1 over \\$45,000\n",
        "\\$120,001 – \\$180,000 |  \\$29,467 plus 37 cents for each \\$1 over \\$120,000\n",
        "\\$180,001 and over | \\$51,667 plus 45 cents for each \\$1 over \\$180,000\n",
        "\n"
      ]
    },
    {
      "cell_type": "markdown",
      "metadata": {
        "id": "eyuQeju3qZ-g"
      },
      "source": [
        "Steps\n",
        "1. Get the income\n",
        "2. Calculate the tax"
      ]
    },
    {
      "cell_type": "code",
      "metadata": {
        "colab": {
          "base_uri": "https://localhost:8080/"
        },
        "id": "PU3JmZmarMe0",
        "outputId": "ecb89d39-a5a6-4838-86d3-8fda3195db90"
      },
      "source": [
        " # Step 1\n",
        " income=int(input(\"What is your annually income ?\"))\n",
        " print(income)"
      ],
      "execution_count": 1,
      "outputs": [
        {
          "output_type": "stream",
          "name": "stdout",
          "text": [
            "What is your annually income ?45000\n",
            "45000\n"
          ]
        }
      ]
    },
    {
      "cell_type": "code",
      "metadata": {
        "id": "BSQnuKQvr-zw",
        "colab": {
          "base_uri": "https://localhost:8080/"
        },
        "outputId": "0dc0a990-7b95-45f0-bb6f-d87b448824ed"
      },
      "source": [
        " #step 1- Get the annual income\n",
        " \n",
        " income=int(input(\"What is your annual income?\"))\n",
        " \n",
        " # Step 2- Calculate the tax payable\n",
        " # If you earn 18,200, pay no tax\n",
        " # If you earn between 18,200-45,000, then pay 19 cents for every dollar over 18,200\n",
        " # If you earn between 45,001-120,000, then pay $5,092 plus 32.5 cents for every dollar over 45,000\n",
        " # If you earn between 12,001-180,000, then pay $29,467 plus 37 cents for every dollar over 120,000\n",
        " # If you earn 180,001 and over, then you pay $51,667 plus 45 cents for each one dollar over 180,000\n",
        " \n",
        " if income<=18200:\n",
        "    tax=0\n",
        " elif 18200<income<=45000:\n",
        "   tax= 0.19 * (income- 18200)\n",
        " elif 45001< income<= 120000:\n",
        "   tax=5092+0.32*(income-45000)\n",
        " elif 120001< income < 180000:\n",
        "   tax= 29467+0.37*(income-120000)\n",
        " elif 180001<= income:\n",
        "   tax= 51667+0.45*(income-180000)\n",
        "\n",
        "print(\"Your payable tax is\", tax)\n"
      ],
      "execution_count": 2,
      "outputs": [
        {
          "output_type": "stream",
          "name": "stdout",
          "text": [
            "What is your annual income?45000\n",
            "Your payable tax is 5092.0\n"
          ]
        }
      ]
    },
    {
      "cell_type": "code",
      "metadata": {
        "id": "jXK1kl3sxwSN"
      },
      "source": [
        "def get_income():\n",
        "  ''' This function will prompt the user for the income\n",
        "  and return the value\n",
        "  '''\n",
        "  income=int(input(\"What is your annually income ?\"))\n",
        "  print(\"Your annual income is\" ,income)\n",
        "  return income\n",
        "\n",
        "  \n"
      ],
      "execution_count": 3,
      "outputs": []
    },
    {
      "cell_type": "code",
      "metadata": {
        "id": "iYf6xnO0MLsw"
      },
      "source": [
        "def calculate_tax(income):\n",
        "  ''' \n",
        "  This function will calculate the tax payable based on the ATO\n",
        "  '''\n",
        "  if income<=18200:\n",
        "    tax=0\n",
        "  elif 18200<income<=45000:\n",
        "    tax= 0.19 * (income- 18200)\n",
        "  elif 45001< income<= 120000:\n",
        "    tax=5092+0.32*(income-45000)\n",
        "  elif 120001< income < 180000:\n",
        "    tax= 29467+0.37*(income-120000)\n",
        "  elif 180001<= income:\n",
        "    tax= 51667+0.45*(income-180000)\n",
        "  return tax\n",
        "\n"
      ],
      "execution_count": 4,
      "outputs": []
    },
    {
      "cell_type": "code",
      "metadata": {
        "colab": {
          "base_uri": "https://localhost:8080/"
        },
        "id": "CHGE3Nor8Zhm",
        "outputId": "409a755c-d06e-4149-d0f6-963b13629c21"
      },
      "source": [
        "# Step 1\n",
        "income = get_income()\n",
        "\n",
        "# Step 2\n",
        "tax = calculate_tax(income)\n",
        "\n",
        "print(\"Your tax payable is \", tax)"
      ],
      "execution_count": 5,
      "outputs": [
        {
          "output_type": "stream",
          "name": "stdout",
          "text": [
            "What is your annually income ?65000\n",
            "Your annual income is 65000\n",
            "Your tax payable is  11492.0\n"
          ]
        }
      ]
    },
    {
      "cell_type": "code",
      "metadata": {
        "id": "gaowL2hp8q-r"
      },
      "source": [
        ""
      ],
      "execution_count": null,
      "outputs": []
    }
  ]
}