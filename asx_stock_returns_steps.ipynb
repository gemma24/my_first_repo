{
  "nbformat": 4,
  "nbformat_minor": 0,
  "metadata": {
    "colab": {
      "name": "asx_stock_returns_steps.ipynb",
      "provenance": [],
      "include_colab_link": true
    },
    "kernelspec": {
      "name": "python3",
      "display_name": "Python 3"
    },
    "language_info": {
      "name": "python"
    }
  },
  "cells": [
    {
      "cell_type": "markdown",
      "metadata": {
        "id": "view-in-github",
        "colab_type": "text"
      },
      "source": [
        "<a href=\"https://colab.research.google.com/github/gemma24/my_first_repo/blob/main/asx_stock_returns_steps.ipynb\" target=\"_parent\"><img src=\"https://colab.research.google.com/assets/colab-badge.svg\" alt=\"Open In Colab\"/></a>"
      ]
    },
    {
      "cell_type": "markdown",
      "metadata": {
        "id": "HNZIlM6oj2Aj"
      },
      "source": [
        "In this notebook we will:\n",
        "\n",
        "* Download prices\n",
        "* Calculate Returns\n",
        "* Calculate mean and standard deviation of returns\n",
        "\n",
        "Lets load the modules first.\n"
      ]
    },
    {
      "cell_type": "code",
      "metadata": {
        "id": "65AKEsMMj7l2"
      },
      "source": [
        "import pandas as pd\n",
        "import matplotlib.pyplot as plt\n",
        "from pandas_datareader import data as pdr"
      ],
      "execution_count": null,
      "outputs": []
    },
    {
      "cell_type": "markdown",
      "metadata": {
        "id": "NECkTYl1rVYg"
      },
      "source": [
        "Work around as Yahoo FInance made a change causing error with Pandas Datareader \n"
      ]
    },
    {
      "cell_type": "code",
      "metadata": {
        "id": "eQnf6ciwrUBZ",
        "colab": {
          "base_uri": "https://localhost:8080/"
        },
        "outputId": "9f424b48-7576-4ad0-ee65-f186dee566c3"
      },
      "source": [
        "!pip install yfinance\n",
        "import yfinance as yfin\n",
        "yfin.pdr_override()"
      ],
      "execution_count": null,
      "outputs": [
        {
          "output_type": "stream",
          "name": "stdout",
          "text": [
            "Collecting yfinance\n",
            "  Downloading yfinance-0.1.63.tar.gz (26 kB)\n",
            "Requirement already satisfied: pandas>=0.24 in /usr/local/lib/python3.7/dist-packages (from yfinance) (1.1.5)\n",
            "Requirement already satisfied: numpy>=1.15 in /usr/local/lib/python3.7/dist-packages (from yfinance) (1.19.5)\n",
            "Requirement already satisfied: requests>=2.20 in /usr/local/lib/python3.7/dist-packages (from yfinance) (2.23.0)\n",
            "Requirement already satisfied: multitasking>=0.0.7 in /usr/local/lib/python3.7/dist-packages (from yfinance) (0.0.9)\n",
            "Collecting lxml>=4.5.1\n",
            "  Downloading lxml-4.6.3-cp37-cp37m-manylinux2014_x86_64.whl (6.3 MB)\n",
            "\u001b[K     |████████████████████████████████| 6.3 MB 7.9 MB/s \n",
            "\u001b[?25hRequirement already satisfied: pytz>=2017.2 in /usr/local/lib/python3.7/dist-packages (from pandas>=0.24->yfinance) (2018.9)\n",
            "Requirement already satisfied: python-dateutil>=2.7.3 in /usr/local/lib/python3.7/dist-packages (from pandas>=0.24->yfinance) (2.8.2)\n",
            "Requirement already satisfied: six>=1.5 in /usr/local/lib/python3.7/dist-packages (from python-dateutil>=2.7.3->pandas>=0.24->yfinance) (1.15.0)\n",
            "Requirement already satisfied: chardet<4,>=3.0.2 in /usr/local/lib/python3.7/dist-packages (from requests>=2.20->yfinance) (3.0.4)\n",
            "Requirement already satisfied: idna<3,>=2.5 in /usr/local/lib/python3.7/dist-packages (from requests>=2.20->yfinance) (2.10)\n",
            "Requirement already satisfied: urllib3!=1.25.0,!=1.25.1,<1.26,>=1.21.1 in /usr/local/lib/python3.7/dist-packages (from requests>=2.20->yfinance) (1.24.3)\n",
            "Requirement already satisfied: certifi>=2017.4.17 in /usr/local/lib/python3.7/dist-packages (from requests>=2.20->yfinance) (2021.5.30)\n",
            "Building wheels for collected packages: yfinance\n",
            "  Building wheel for yfinance (setup.py) ... \u001b[?25l\u001b[?25hdone\n",
            "  Created wheel for yfinance: filename=yfinance-0.1.63-py2.py3-none-any.whl size=23918 sha256=1e99b5044563e529656ea8b06af466aa43b4763b24865ace2a8a6d278fe50f37\n",
            "  Stored in directory: /root/.cache/pip/wheels/fe/87/8b/7ec24486e001d3926537f5f7801f57a74d181be25b11157983\n",
            "Successfully built yfinance\n",
            "Installing collected packages: lxml, yfinance\n",
            "  Attempting uninstall: lxml\n",
            "    Found existing installation: lxml 4.2.6\n",
            "    Uninstalling lxml-4.2.6:\n",
            "      Successfully uninstalled lxml-4.2.6\n",
            "Successfully installed lxml-4.6.3 yfinance-0.1.63\n"
          ]
        }
      ]
    },
    {
      "cell_type": "markdown",
      "metadata": {
        "id": "NoqWddgEnsgn"
      },
      "source": [
        "## Step 1: Specify date range for analysis \n",
        "\n",
        "Here we begin by creating start and end dates using pythons datetime module. "
      ]
    },
    {
      "cell_type": "code",
      "metadata": {
        "id": "RPfSzWb7gZDE"
      },
      "source": [
        "start=\"2009-01-01\"\n",
        "end=\"2021-09-15\""
      ],
      "execution_count": null,
      "outputs": []
    },
    {
      "cell_type": "markdown",
      "metadata": {
        "id": "13o_1wssoBjF"
      },
      "source": [
        "## Step 2: Select the stocks/tickers you would like to analyse\n",
        "\n",
        "For Australian stocks, yahoo tickers require '.AX' to be specified at the end of the ticker symbol.  For other tickers use the search bar in yahoo finance."
      ]
    },
    {
      "cell_type": "code",
      "metadata": {
        "id": "Y6ZrCfWNgeoZ"
      },
      "source": [
        "tickers=['ANZ.AX', 'CBA.AX', 'NAB.AX']"
      ],
      "execution_count": null,
      "outputs": []
    },
    {
      "cell_type": "code",
      "metadata": {
        "colab": {
          "base_uri": "https://localhost:8080/"
        },
        "id": "hIqI7ga53d_b",
        "outputId": "5e33149e-2e6b-4365-ca3d-88b5286fbbc6"
      },
      "source": [
        "tickers"
      ],
      "execution_count": null,
      "outputs": [
        {
          "output_type": "execute_result",
          "data": {
            "text/plain": [
              "['ANZ.AX', 'CBA.AX', 'NAB.AX']"
            ]
          },
          "metadata": {},
          "execution_count": 32
        }
      ]
    },
    {
      "cell_type": "markdown",
      "metadata": {
        "id": "xSez_wk4oZZP"
      },
      "source": [
        "# Step 3: call the Pandas_Datareader DataReader module"
      ]
    },
    {
      "cell_type": "code",
      "metadata": {
        "id": "DiHcvM3_lWkw",
        "colab": {
          "base_uri": "https://localhost:8080/"
        },
        "outputId": "a3fb1830-c280-4bc2-cfbc-e79a53fdd45c"
      },
      "source": [
        "df=pdr.get_data_yahoo(tickers, start, end)"
      ],
      "execution_count": null,
      "outputs": [
        {
          "output_type": "stream",
          "name": "stdout",
          "text": [
            "[*********************100%***********************]  3 of 3 completed\n"
          ]
        }
      ]
    },
    {
      "cell_type": "code",
      "metadata": {
        "colab": {
          "base_uri": "https://localhost:8080/"
        },
        "id": "_iW-7-iS4Xvr",
        "outputId": "600f2bd4-c157-4cd1-8ac5-5e6ff96161f0"
      },
      "source": [
        "help(pdr.get_data_yahoo)"
      ],
      "execution_count": null,
      "outputs": [
        {
          "output_type": "stream",
          "name": "stdout",
          "text": [
            "Help on function download in module yfinance.multi:\n",
            "\n",
            "download(tickers, start=None, end=None, actions=False, threads=True, group_by='column', auto_adjust=False, back_adjust=False, progress=True, period='max', show_errors=True, interval='1d', prepost=False, proxy=None, rounding=False, **kwargs)\n",
            "    Download yahoo tickers\n",
            "    :Parameters:\n",
            "        tickers : str, list\n",
            "            List of tickers to download\n",
            "        period : str\n",
            "            Valid periods: 1d,5d,1mo,3mo,6mo,1y,2y,5y,10y,ytd,max\n",
            "            Either Use period parameter or use start and end\n",
            "        interval : str\n",
            "            Valid intervals: 1m,2m,5m,15m,30m,60m,90m,1h,1d,5d,1wk,1mo,3mo\n",
            "            Intraday data cannot extend last 60 days\n",
            "        start: str\n",
            "            Download start date string (YYYY-MM-DD) or _datetime.\n",
            "            Default is 1900-01-01\n",
            "        end: str\n",
            "            Download end date string (YYYY-MM-DD) or _datetime.\n",
            "            Default is now\n",
            "        group_by : str\n",
            "            Group by 'ticker' or 'column' (default)\n",
            "        prepost : bool\n",
            "            Include Pre and Post market data in results?\n",
            "            Default is False\n",
            "        auto_adjust: bool\n",
            "            Adjust all OHLC automatically? Default is False\n",
            "        actions: bool\n",
            "            Download dividend + stock splits data. Default is False\n",
            "        threads: bool / int\n",
            "            How many threads to use for mass downloading. Default is True\n",
            "        proxy: str\n",
            "            Optional. Proxy server URL scheme. Default is None\n",
            "        rounding: bool\n",
            "            Optional. Round values to 2 decimal places?\n",
            "        show_errors: bool\n",
            "            Optional. Doesn't print errors if True\n",
            "\n"
          ]
        }
      ]
    },
    {
      "cell_type": "code",
      "metadata": {
        "colab": {
          "base_uri": "https://localhost:8080/",
          "height": 266
        },
        "id": "bO_BKI0t4lCK",
        "outputId": "2fb93405-5810-4a18-d166-4c5c6f310c82"
      },
      "source": [
        "df.head()"
      ],
      "execution_count": null,
      "outputs": [
        {
          "output_type": "execute_result",
          "data": {
            "text/html": [
              "<div>\n",
              "<style scoped>\n",
              "    .dataframe tbody tr th:only-of-type {\n",
              "        vertical-align: middle;\n",
              "    }\n",
              "\n",
              "    .dataframe tbody tr th {\n",
              "        vertical-align: top;\n",
              "    }\n",
              "\n",
              "    .dataframe thead tr th {\n",
              "        text-align: left;\n",
              "    }\n",
              "\n",
              "    .dataframe thead tr:last-of-type th {\n",
              "        text-align: right;\n",
              "    }\n",
              "</style>\n",
              "<table border=\"1\" class=\"dataframe\">\n",
              "  <thead>\n",
              "    <tr>\n",
              "      <th></th>\n",
              "      <th colspan=\"3\" halign=\"left\">Adj Close</th>\n",
              "      <th colspan=\"3\" halign=\"left\">Close</th>\n",
              "      <th colspan=\"3\" halign=\"left\">High</th>\n",
              "      <th colspan=\"3\" halign=\"left\">Low</th>\n",
              "      <th colspan=\"3\" halign=\"left\">Open</th>\n",
              "      <th colspan=\"3\" halign=\"left\">Volume</th>\n",
              "    </tr>\n",
              "    <tr>\n",
              "      <th></th>\n",
              "      <th>ANZ.AX</th>\n",
              "      <th>CBA.AX</th>\n",
              "      <th>NAB.AX</th>\n",
              "      <th>ANZ.AX</th>\n",
              "      <th>CBA.AX</th>\n",
              "      <th>NAB.AX</th>\n",
              "      <th>ANZ.AX</th>\n",
              "      <th>CBA.AX</th>\n",
              "      <th>NAB.AX</th>\n",
              "      <th>ANZ.AX</th>\n",
              "      <th>CBA.AX</th>\n",
              "      <th>NAB.AX</th>\n",
              "      <th>ANZ.AX</th>\n",
              "      <th>CBA.AX</th>\n",
              "      <th>NAB.AX</th>\n",
              "      <th>ANZ.AX</th>\n",
              "      <th>CBA.AX</th>\n",
              "      <th>NAB.AX</th>\n",
              "    </tr>\n",
              "    <tr>\n",
              "      <th>Date</th>\n",
              "      <th></th>\n",
              "      <th></th>\n",
              "      <th></th>\n",
              "      <th></th>\n",
              "      <th></th>\n",
              "      <th></th>\n",
              "      <th></th>\n",
              "      <th></th>\n",
              "      <th></th>\n",
              "      <th></th>\n",
              "      <th></th>\n",
              "      <th></th>\n",
              "      <th></th>\n",
              "      <th></th>\n",
              "      <th></th>\n",
              "      <th></th>\n",
              "      <th></th>\n",
              "      <th></th>\n",
              "    </tr>\n",
              "  </thead>\n",
              "  <tbody>\n",
              "    <tr>\n",
              "      <th>2009-01-02</th>\n",
              "      <td>7.642381</td>\n",
              "      <td>14.494561</td>\n",
              "      <td>8.887321</td>\n",
              "      <td>15.18</td>\n",
              "      <td>29.042646</td>\n",
              "      <td>19.406162</td>\n",
              "      <td>15.48</td>\n",
              "      <td>29.311192</td>\n",
              "      <td>19.976933</td>\n",
              "      <td>15.00</td>\n",
              "      <td>28.803940</td>\n",
              "      <td>19.244446</td>\n",
              "      <td>15.29</td>\n",
              "      <td>28.823832</td>\n",
              "      <td>19.929367</td>\n",
              "      <td>2413777</td>\n",
              "      <td>2269780.0</td>\n",
              "      <td>2572210.0</td>\n",
              "    </tr>\n",
              "    <tr>\n",
              "      <th>2009-01-05</th>\n",
              "      <td>7.587002</td>\n",
              "      <td>14.196732</td>\n",
              "      <td>8.813263</td>\n",
              "      <td>15.07</td>\n",
              "      <td>28.445881</td>\n",
              "      <td>19.244446</td>\n",
              "      <td>15.41</td>\n",
              "      <td>29.360922</td>\n",
              "      <td>19.720085</td>\n",
              "      <td>14.88</td>\n",
              "      <td>28.356365</td>\n",
              "      <td>19.082727</td>\n",
              "      <td>15.40</td>\n",
              "      <td>29.341030</td>\n",
              "      <td>19.691547</td>\n",
              "      <td>2853413</td>\n",
              "      <td>2908531.0</td>\n",
              "      <td>2822855.0</td>\n",
              "    </tr>\n",
              "    <tr>\n",
              "      <th>2009-01-06</th>\n",
              "      <td>7.753141</td>\n",
              "      <td>14.628585</td>\n",
              "      <td>9.035444</td>\n",
              "      <td>15.40</td>\n",
              "      <td>29.311192</td>\n",
              "      <td>19.729599</td>\n",
              "      <td>15.41</td>\n",
              "      <td>29.311192</td>\n",
              "      <td>19.862778</td>\n",
              "      <td>15.10</td>\n",
              "      <td>28.754210</td>\n",
              "      <td>19.482265</td>\n",
              "      <td>15.30</td>\n",
              "      <td>28.992916</td>\n",
              "      <td>19.624958</td>\n",
              "      <td>3128244</td>\n",
              "      <td>2564247.0</td>\n",
              "      <td>3803343.0</td>\n",
              "    </tr>\n",
              "    <tr>\n",
              "      <th>2009-01-07</th>\n",
              "      <td>7.727966</td>\n",
              "      <td>14.370469</td>\n",
              "      <td>9.100794</td>\n",
              "      <td>15.35</td>\n",
              "      <td>28.793995</td>\n",
              "      <td>19.872292</td>\n",
              "      <td>15.71</td>\n",
              "      <td>29.400705</td>\n",
              "      <td>20.148163</td>\n",
              "      <td>15.26</td>\n",
              "      <td>28.754210</td>\n",
              "      <td>19.548855</td>\n",
              "      <td>15.45</td>\n",
              "      <td>29.341030</td>\n",
              "      <td>19.853266</td>\n",
              "      <td>4198861</td>\n",
              "      <td>3413898.0</td>\n",
              "      <td>4676568.0</td>\n",
              "    </tr>\n",
              "    <tr>\n",
              "      <th>2009-01-08</th>\n",
              "      <td>7.662520</td>\n",
              "      <td>14.176876</td>\n",
              "      <td>9.087723</td>\n",
              "      <td>15.22</td>\n",
              "      <td>28.406096</td>\n",
              "      <td>19.843754</td>\n",
              "      <td>15.30</td>\n",
              "      <td>28.694532</td>\n",
              "      <td>19.843754</td>\n",
              "      <td>15.00</td>\n",
              "      <td>27.888897</td>\n",
              "      <td>19.501291</td>\n",
              "      <td>15.25</td>\n",
              "      <td>28.694532</td>\n",
              "      <td>19.501291</td>\n",
              "      <td>3169821</td>\n",
              "      <td>3969963.0</td>\n",
              "      <td>2949396.0</td>\n",
              "    </tr>\n",
              "  </tbody>\n",
              "</table>\n",
              "</div>"
            ],
            "text/plain": [
              "           Adj Close                       ...   Volume                      \n",
              "              ANZ.AX     CBA.AX    NAB.AX  ...   ANZ.AX     CBA.AX     NAB.AX\n",
              "Date                                       ...                               \n",
              "2009-01-02  7.642381  14.494561  8.887321  ...  2413777  2269780.0  2572210.0\n",
              "2009-01-05  7.587002  14.196732  8.813263  ...  2853413  2908531.0  2822855.0\n",
              "2009-01-06  7.753141  14.628585  9.035444  ...  3128244  2564247.0  3803343.0\n",
              "2009-01-07  7.727966  14.370469  9.100794  ...  4198861  3413898.0  4676568.0\n",
              "2009-01-08  7.662520  14.176876  9.087723  ...  3169821  3969963.0  2949396.0\n",
              "\n",
              "[5 rows x 18 columns]"
            ]
          },
          "metadata": {},
          "execution_count": 35
        }
      ]
    },
    {
      "cell_type": "markdown",
      "metadata": {
        "id": "7-Y707wBodqa"
      },
      "source": [
        "## Step 4: Understanding the pandas dataframe structure\n",
        "\n",
        "A good way to quickly understand how a pandas dataframe is structured is to look at the index and the columns."
      ]
    },
    {
      "cell_type": "code",
      "metadata": {
        "id": "uu_BWD_llZ9q",
        "colab": {
          "base_uri": "https://localhost:8080/"
        },
        "outputId": "1c39d105-15a4-4f48-f185-95a59ccf4a68"
      },
      "source": [
        "df.index"
      ],
      "execution_count": null,
      "outputs": [
        {
          "output_type": "execute_result",
          "data": {
            "text/plain": [
              "DatetimeIndex(['2009-01-02', '2009-01-05', '2009-01-06', '2009-01-07',\n",
              "               '2009-01-08', '2009-01-09', '2009-01-12', '2009-01-13',\n",
              "               '2009-01-14', '2009-01-15',\n",
              "               ...\n",
              "               '2021-09-02', '2021-09-03', '2021-09-06', '2021-09-07',\n",
              "               '2021-09-08', '2021-09-09', '2021-09-10', '2021-09-13',\n",
              "               '2021-09-14', '2021-09-15'],\n",
              "              dtype='datetime64[ns]', name='Date', length=3214, freq=None)"
            ]
          },
          "metadata": {},
          "execution_count": 36
        }
      ]
    },
    {
      "cell_type": "code",
      "metadata": {
        "colab": {
          "base_uri": "https://localhost:8080/"
        },
        "id": "0uSY1VQV44oS",
        "outputId": "533dc422-1281-4696-80c9-4e54825dba2c"
      },
      "source": [
        "print(df.index)\n",
        "print(df.columns)"
      ],
      "execution_count": null,
      "outputs": [
        {
          "output_type": "stream",
          "name": "stdout",
          "text": [
            "DatetimeIndex(['2009-01-02', '2009-01-05', '2009-01-06', '2009-01-07',\n",
            "               '2009-01-08', '2009-01-09', '2009-01-12', '2009-01-13',\n",
            "               '2009-01-14', '2009-01-15',\n",
            "               ...\n",
            "               '2021-09-02', '2021-09-03', '2021-09-06', '2021-09-07',\n",
            "               '2021-09-08', '2021-09-09', '2021-09-10', '2021-09-13',\n",
            "               '2021-09-14', '2021-09-15'],\n",
            "              dtype='datetime64[ns]', name='Date', length=3214, freq=None)\n",
            "MultiIndex([('Adj Close', 'ANZ.AX'),\n",
            "            ('Adj Close', 'CBA.AX'),\n",
            "            ('Adj Close', 'NAB.AX'),\n",
            "            (    'Close', 'ANZ.AX'),\n",
            "            (    'Close', 'CBA.AX'),\n",
            "            (    'Close', 'NAB.AX'),\n",
            "            (     'High', 'ANZ.AX'),\n",
            "            (     'High', 'CBA.AX'),\n",
            "            (     'High', 'NAB.AX'),\n",
            "            (      'Low', 'ANZ.AX'),\n",
            "            (      'Low', 'CBA.AX'),\n",
            "            (      'Low', 'NAB.AX'),\n",
            "            (     'Open', 'ANZ.AX'),\n",
            "            (     'Open', 'CBA.AX'),\n",
            "            (     'Open', 'NAB.AX'),\n",
            "            (   'Volume', 'ANZ.AX'),\n",
            "            (   'Volume', 'CBA.AX'),\n",
            "            (   'Volume', 'NAB.AX')],\n",
            "           )\n"
          ]
        }
      ]
    },
    {
      "cell_type": "markdown",
      "metadata": {
        "id": "xmcQWB9Vo8pX"
      },
      "source": [
        "## Step 5: Access useful attributes easily\n",
        "\n",
        "We are interested in the closing price information for all of these stocks."
      ]
    },
    {
      "cell_type": "code",
      "metadata": {
        "id": "rVugNpr-olSV",
        "colab": {
          "base_uri": "https://localhost:8080/"
        },
        "outputId": "f4cccdc3-60b2-4479-8d8b-6394fccd056f"
      },
      "source": [
        "Close=df['Close']\n",
        "print(Close)"
      ],
      "execution_count": null,
      "outputs": [
        {
          "output_type": "stream",
          "name": "stdout",
          "text": [
            "               ANZ.AX      CBA.AX     NAB.AX\n",
            "Date                                        \n",
            "2009-01-02  15.180000   29.042646  19.406162\n",
            "2009-01-05  15.070000   28.445881  19.244446\n",
            "2009-01-06  15.400000   29.311192  19.729599\n",
            "2009-01-07  15.350000   28.793995  19.872292\n",
            "2009-01-08  15.220000   28.406096  19.843754\n",
            "...               ...         ...        ...\n",
            "2021-09-09  27.510000  100.550003  28.400000\n",
            "2021-09-10  27.590000  101.089996  28.450001\n",
            "2021-09-13  27.620001  101.300003  28.180000\n",
            "2021-09-14  27.709999  101.580002  28.230000\n",
            "2021-09-15  27.480000  100.750000  28.000000\n",
            "\n",
            "[3214 rows x 3 columns]\n"
          ]
        }
      ]
    },
    {
      "cell_type": "markdown",
      "metadata": {
        "id": "DKbUd2tcpGl3"
      },
      "source": [
        "## Step 6: Gain insights quickly with pandas describe method\n"
      ]
    },
    {
      "cell_type": "code",
      "metadata": {
        "id": "n2_QynuJpBZQ",
        "colab": {
          "base_uri": "https://localhost:8080/",
          "height": 348
        },
        "outputId": "38a592a0-7947-4f73-bcb7-327bfec3bf6f"
      },
      "source": [
        "df.describe()"
      ],
      "execution_count": null,
      "outputs": [
        {
          "output_type": "execute_result",
          "data": {
            "text/html": [
              "<div>\n",
              "<style scoped>\n",
              "    .dataframe tbody tr th:only-of-type {\n",
              "        vertical-align: middle;\n",
              "    }\n",
              "\n",
              "    .dataframe tbody tr th {\n",
              "        vertical-align: top;\n",
              "    }\n",
              "\n",
              "    .dataframe thead tr th {\n",
              "        text-align: left;\n",
              "    }\n",
              "</style>\n",
              "<table border=\"1\" class=\"dataframe\">\n",
              "  <thead>\n",
              "    <tr>\n",
              "      <th></th>\n",
              "      <th colspan=\"3\" halign=\"left\">Adj Close</th>\n",
              "      <th colspan=\"3\" halign=\"left\">Close</th>\n",
              "      <th colspan=\"3\" halign=\"left\">High</th>\n",
              "      <th colspan=\"3\" halign=\"left\">Low</th>\n",
              "      <th colspan=\"3\" halign=\"left\">Open</th>\n",
              "      <th colspan=\"3\" halign=\"left\">Volume</th>\n",
              "    </tr>\n",
              "    <tr>\n",
              "      <th></th>\n",
              "      <th>ANZ.AX</th>\n",
              "      <th>CBA.AX</th>\n",
              "      <th>NAB.AX</th>\n",
              "      <th>ANZ.AX</th>\n",
              "      <th>CBA.AX</th>\n",
              "      <th>NAB.AX</th>\n",
              "      <th>ANZ.AX</th>\n",
              "      <th>CBA.AX</th>\n",
              "      <th>NAB.AX</th>\n",
              "      <th>ANZ.AX</th>\n",
              "      <th>CBA.AX</th>\n",
              "      <th>NAB.AX</th>\n",
              "      <th>ANZ.AX</th>\n",
              "      <th>CBA.AX</th>\n",
              "      <th>NAB.AX</th>\n",
              "      <th>ANZ.AX</th>\n",
              "      <th>CBA.AX</th>\n",
              "      <th>NAB.AX</th>\n",
              "    </tr>\n",
              "  </thead>\n",
              "  <tbody>\n",
              "    <tr>\n",
              "      <th>count</th>\n",
              "      <td>3214.000000</td>\n",
              "      <td>3212.000000</td>\n",
              "      <td>3212.000000</td>\n",
              "      <td>3214.000000</td>\n",
              "      <td>3212.000000</td>\n",
              "      <td>3212.000000</td>\n",
              "      <td>3214.000000</td>\n",
              "      <td>3212.000000</td>\n",
              "      <td>3212.000000</td>\n",
              "      <td>3214.000000</td>\n",
              "      <td>3212.000000</td>\n",
              "      <td>3212.000000</td>\n",
              "      <td>3214.000000</td>\n",
              "      <td>3212.000000</td>\n",
              "      <td>3212.000000</td>\n",
              "      <td>3.214000e+03</td>\n",
              "      <td>3.212000e+03</td>\n",
              "      <td>3.212000e+03</td>\n",
              "    </tr>\n",
              "    <tr>\n",
              "      <th>mean</th>\n",
              "      <td>19.064239</td>\n",
              "      <td>52.234980</td>\n",
              "      <td>18.858332</td>\n",
              "      <td>25.874902</td>\n",
              "      <td>68.705208</td>\n",
              "      <td>26.603540</td>\n",
              "      <td>26.078230</td>\n",
              "      <td>69.177364</td>\n",
              "      <td>26.803501</td>\n",
              "      <td>25.669804</td>\n",
              "      <td>68.203606</td>\n",
              "      <td>26.400036</td>\n",
              "      <td>25.885412</td>\n",
              "      <td>68.713596</td>\n",
              "      <td>26.614265</td>\n",
              "      <td>7.025179e+06</td>\n",
              "      <td>3.685951e+06</td>\n",
              "      <td>6.725458e+06</td>\n",
              "    </tr>\n",
              "    <tr>\n",
              "      <th>std</th>\n",
              "      <td>5.464457</td>\n",
              "      <td>19.341565</td>\n",
              "      <td>5.262374</td>\n",
              "      <td>4.803331</td>\n",
              "      <td>15.493437</td>\n",
              "      <td>4.389994</td>\n",
              "      <td>4.791282</td>\n",
              "      <td>15.540397</td>\n",
              "      <td>4.377502</td>\n",
              "      <td>4.813014</td>\n",
              "      <td>15.434723</td>\n",
              "      <td>4.397393</td>\n",
              "      <td>4.803246</td>\n",
              "      <td>15.487929</td>\n",
              "      <td>4.386043</td>\n",
              "      <td>3.779544e+06</td>\n",
              "      <td>2.172032e+06</td>\n",
              "      <td>3.829146e+06</td>\n",
              "    </tr>\n",
              "    <tr>\n",
              "      <th>min</th>\n",
              "      <td>5.986029</td>\n",
              "      <td>11.948084</td>\n",
              "      <td>6.983520</td>\n",
              "      <td>11.890000</td>\n",
              "      <td>23.940290</td>\n",
              "      <td>13.880000</td>\n",
              "      <td>12.280000</td>\n",
              "      <td>24.865278</td>\n",
              "      <td>14.480000</td>\n",
              "      <td>11.830000</td>\n",
              "      <td>23.900507</td>\n",
              "      <td>13.195000</td>\n",
              "      <td>12.090000</td>\n",
              "      <td>24.745926</td>\n",
              "      <td>14.270000</td>\n",
              "      <td>0.000000e+00</td>\n",
              "      <td>0.000000e+00</td>\n",
              "      <td>0.000000e+00</td>\n",
              "    </tr>\n",
              "    <tr>\n",
              "      <th>25%</th>\n",
              "      <td>13.472273</td>\n",
              "      <td>30.705282</td>\n",
              "      <td>13.097493</td>\n",
              "      <td>22.832500</td>\n",
              "      <td>54.032254</td>\n",
              "      <td>23.591806</td>\n",
              "      <td>23.049999</td>\n",
              "      <td>54.437555</td>\n",
              "      <td>23.810600</td>\n",
              "      <td>22.652500</td>\n",
              "      <td>53.517541</td>\n",
              "      <td>23.437223</td>\n",
              "      <td>22.850000</td>\n",
              "      <td>53.922845</td>\n",
              "      <td>23.639370</td>\n",
              "      <td>4.642638e+06</td>\n",
              "      <td>2.357141e+06</td>\n",
              "      <td>4.421287e+06</td>\n",
              "    </tr>\n",
              "    <tr>\n",
              "      <th>50%</th>\n",
              "      <td>20.316768</td>\n",
              "      <td>56.786320</td>\n",
              "      <td>20.415663</td>\n",
              "      <td>26.375000</td>\n",
              "      <td>72.882553</td>\n",
              "      <td>26.608685</td>\n",
              "      <td>26.595000</td>\n",
              "      <td>73.391178</td>\n",
              "      <td>26.784058</td>\n",
              "      <td>26.150000</td>\n",
              "      <td>72.368980</td>\n",
              "      <td>26.362519</td>\n",
              "      <td>26.315000</td>\n",
              "      <td>72.945000</td>\n",
              "      <td>26.595000</td>\n",
              "      <td>6.154850e+06</td>\n",
              "      <td>3.144842e+06</td>\n",
              "      <td>5.857673e+06</td>\n",
              "    </tr>\n",
              "    <tr>\n",
              "      <th>75%</th>\n",
              "      <td>23.620510</td>\n",
              "      <td>65.034241</td>\n",
              "      <td>23.541030</td>\n",
              "      <td>28.965000</td>\n",
              "      <td>80.110001</td>\n",
              "      <td>29.850000</td>\n",
              "      <td>29.170000</td>\n",
              "      <td>80.556046</td>\n",
              "      <td>30.020619</td>\n",
              "      <td>28.790001</td>\n",
              "      <td>79.687035</td>\n",
              "      <td>29.670000</td>\n",
              "      <td>29.000000</td>\n",
              "      <td>80.068687</td>\n",
              "      <td>29.843799</td>\n",
              "      <td>8.536301e+06</td>\n",
              "      <td>4.335613e+06</td>\n",
              "      <td>7.903465e+06</td>\n",
              "    </tr>\n",
              "    <tr>\n",
              "      <th>max</th>\n",
              "      <td>29.530001</td>\n",
              "      <td>106.060188</td>\n",
              "      <td>28.860001</td>\n",
              "      <td>37.189999</td>\n",
              "      <td>108.169998</td>\n",
              "      <td>37.642250</td>\n",
              "      <td>37.250000</td>\n",
              "      <td>109.029999</td>\n",
              "      <td>37.775429</td>\n",
              "      <td>36.759998</td>\n",
              "      <td>107.129997</td>\n",
              "      <td>37.528095</td>\n",
              "      <td>37.049999</td>\n",
              "      <td>108.860001</td>\n",
              "      <td>37.756401</td>\n",
              "      <td>6.347592e+07</td>\n",
              "      <td>3.561263e+07</td>\n",
              "      <td>6.043383e+07</td>\n",
              "    </tr>\n",
              "  </tbody>\n",
              "</table>\n",
              "</div>"
            ],
            "text/plain": [
              "         Adj Close               ...        Volume              \n",
              "            ANZ.AX       CBA.AX  ...        CBA.AX        NAB.AX\n",
              "count  3214.000000  3212.000000  ...  3.212000e+03  3.212000e+03\n",
              "mean     19.064239    52.234980  ...  3.685951e+06  6.725458e+06\n",
              "std       5.464457    19.341565  ...  2.172032e+06  3.829146e+06\n",
              "min       5.986029    11.948084  ...  0.000000e+00  0.000000e+00\n",
              "25%      13.472273    30.705282  ...  2.357141e+06  4.421287e+06\n",
              "50%      20.316768    56.786320  ...  3.144842e+06  5.857673e+06\n",
              "75%      23.620510    65.034241  ...  4.335613e+06  7.903465e+06\n",
              "max      29.530001   106.060188  ...  3.561263e+07  6.043383e+07\n",
              "\n",
              "[8 rows x 18 columns]"
            ]
          },
          "metadata": {},
          "execution_count": 39
        }
      ]
    },
    {
      "cell_type": "code",
      "metadata": {
        "colab": {
          "base_uri": "https://localhost:8080/",
          "height": 297
        },
        "id": "6LsgXroq65vL",
        "outputId": "fc553c88-e3a4-42a7-f6ca-2fb3e79a0ba0"
      },
      "source": [
        "Close.describe()"
      ],
      "execution_count": null,
      "outputs": [
        {
          "output_type": "execute_result",
          "data": {
            "text/html": [
              "<div>\n",
              "<style scoped>\n",
              "    .dataframe tbody tr th:only-of-type {\n",
              "        vertical-align: middle;\n",
              "    }\n",
              "\n",
              "    .dataframe tbody tr th {\n",
              "        vertical-align: top;\n",
              "    }\n",
              "\n",
              "    .dataframe thead th {\n",
              "        text-align: right;\n",
              "    }\n",
              "</style>\n",
              "<table border=\"1\" class=\"dataframe\">\n",
              "  <thead>\n",
              "    <tr style=\"text-align: right;\">\n",
              "      <th></th>\n",
              "      <th>ANZ.AX</th>\n",
              "      <th>CBA.AX</th>\n",
              "      <th>NAB.AX</th>\n",
              "    </tr>\n",
              "  </thead>\n",
              "  <tbody>\n",
              "    <tr>\n",
              "      <th>count</th>\n",
              "      <td>3214.000000</td>\n",
              "      <td>3212.000000</td>\n",
              "      <td>3212.000000</td>\n",
              "    </tr>\n",
              "    <tr>\n",
              "      <th>mean</th>\n",
              "      <td>25.874902</td>\n",
              "      <td>68.705208</td>\n",
              "      <td>26.603540</td>\n",
              "    </tr>\n",
              "    <tr>\n",
              "      <th>std</th>\n",
              "      <td>4.803331</td>\n",
              "      <td>15.493437</td>\n",
              "      <td>4.389994</td>\n",
              "    </tr>\n",
              "    <tr>\n",
              "      <th>min</th>\n",
              "      <td>11.890000</td>\n",
              "      <td>23.940290</td>\n",
              "      <td>13.880000</td>\n",
              "    </tr>\n",
              "    <tr>\n",
              "      <th>25%</th>\n",
              "      <td>22.832500</td>\n",
              "      <td>54.032254</td>\n",
              "      <td>23.591806</td>\n",
              "    </tr>\n",
              "    <tr>\n",
              "      <th>50%</th>\n",
              "      <td>26.375000</td>\n",
              "      <td>72.882553</td>\n",
              "      <td>26.608685</td>\n",
              "    </tr>\n",
              "    <tr>\n",
              "      <th>75%</th>\n",
              "      <td>28.965000</td>\n",
              "      <td>80.110001</td>\n",
              "      <td>29.850000</td>\n",
              "    </tr>\n",
              "    <tr>\n",
              "      <th>max</th>\n",
              "      <td>37.189999</td>\n",
              "      <td>108.169998</td>\n",
              "      <td>37.642250</td>\n",
              "    </tr>\n",
              "  </tbody>\n",
              "</table>\n",
              "</div>"
            ],
            "text/plain": [
              "            ANZ.AX       CBA.AX       NAB.AX\n",
              "count  3214.000000  3212.000000  3212.000000\n",
              "mean     25.874902    68.705208    26.603540\n",
              "std       4.803331    15.493437     4.389994\n",
              "min      11.890000    23.940290    13.880000\n",
              "25%      22.832500    54.032254    23.591806\n",
              "50%      26.375000    72.882553    26.608685\n",
              "75%      28.965000    80.110001    29.850000\n",
              "max      37.189999   108.169998    37.642250"
            ]
          },
          "metadata": {},
          "execution_count": 40
        }
      ]
    },
    {
      "cell_type": "code",
      "metadata": {
        "colab": {
          "base_uri": "https://localhost:8080/"
        },
        "id": "L_G4Uwit7Joy",
        "outputId": "4ff49062-19f3-4354-fef1-1f131f764d66"
      },
      "source": [
        "df.info()"
      ],
      "execution_count": null,
      "outputs": [
        {
          "output_type": "stream",
          "name": "stdout",
          "text": [
            "<class 'pandas.core.frame.DataFrame'>\n",
            "DatetimeIndex: 3214 entries, 2009-01-02 to 2021-09-15\n",
            "Data columns (total 18 columns):\n",
            " #   Column               Non-Null Count  Dtype  \n",
            "---  ------               --------------  -----  \n",
            " 0   (Adj Close, ANZ.AX)  3214 non-null   float64\n",
            " 1   (Adj Close, CBA.AX)  3212 non-null   float64\n",
            " 2   (Adj Close, NAB.AX)  3212 non-null   float64\n",
            " 3   (Close, ANZ.AX)      3214 non-null   float64\n",
            " 4   (Close, CBA.AX)      3212 non-null   float64\n",
            " 5   (Close, NAB.AX)      3212 non-null   float64\n",
            " 6   (High, ANZ.AX)       3214 non-null   float64\n",
            " 7   (High, CBA.AX)       3212 non-null   float64\n",
            " 8   (High, NAB.AX)       3212 non-null   float64\n",
            " 9   (Low, ANZ.AX)        3214 non-null   float64\n",
            " 10  (Low, CBA.AX)        3212 non-null   float64\n",
            " 11  (Low, NAB.AX)        3212 non-null   float64\n",
            " 12  (Open, ANZ.AX)       3214 non-null   float64\n",
            " 13  (Open, CBA.AX)       3212 non-null   float64\n",
            " 14  (Open, NAB.AX)       3212 non-null   float64\n",
            " 15  (Volume, ANZ.AX)     3214 non-null   int64  \n",
            " 16  (Volume, CBA.AX)     3212 non-null   float64\n",
            " 17  (Volume, NAB.AX)     3212 non-null   float64\n",
            "dtypes: float64(17), int64(1)\n",
            "memory usage: 477.1 KB\n"
          ]
        }
      ]
    },
    {
      "cell_type": "code",
      "metadata": {
        "colab": {
          "base_uri": "https://localhost:8080/",
          "height": 328
        },
        "id": "Hl-U3Vzt7nGT",
        "outputId": "8de3bc2d-5ab3-4e64-b320-db3a6124f961"
      },
      "source": [
        "Close.describe(percentiles=[0.1,0.2,0.3])"
      ],
      "execution_count": null,
      "outputs": [
        {
          "output_type": "execute_result",
          "data": {
            "text/html": [
              "<div>\n",
              "<style scoped>\n",
              "    .dataframe tbody tr th:only-of-type {\n",
              "        vertical-align: middle;\n",
              "    }\n",
              "\n",
              "    .dataframe tbody tr th {\n",
              "        vertical-align: top;\n",
              "    }\n",
              "\n",
              "    .dataframe thead th {\n",
              "        text-align: right;\n",
              "    }\n",
              "</style>\n",
              "<table border=\"1\" class=\"dataframe\">\n",
              "  <thead>\n",
              "    <tr style=\"text-align: right;\">\n",
              "      <th></th>\n",
              "      <th>ANZ.AX</th>\n",
              "      <th>CBA.AX</th>\n",
              "      <th>NAB.AX</th>\n",
              "    </tr>\n",
              "  </thead>\n",
              "  <tbody>\n",
              "    <tr>\n",
              "      <th>count</th>\n",
              "      <td>3214.000000</td>\n",
              "      <td>3212.000000</td>\n",
              "      <td>3212.000000</td>\n",
              "    </tr>\n",
              "    <tr>\n",
              "      <th>mean</th>\n",
              "      <td>25.874902</td>\n",
              "      <td>68.705208</td>\n",
              "      <td>26.603540</td>\n",
              "    </tr>\n",
              "    <tr>\n",
              "      <th>std</th>\n",
              "      <td>4.803331</td>\n",
              "      <td>15.493437</td>\n",
              "      <td>4.389994</td>\n",
              "    </tr>\n",
              "    <tr>\n",
              "      <th>min</th>\n",
              "      <td>11.890000</td>\n",
              "      <td>23.940290</td>\n",
              "      <td>13.880000</td>\n",
              "    </tr>\n",
              "    <tr>\n",
              "      <th>10%</th>\n",
              "      <td>19.320000</td>\n",
              "      <td>49.015433</td>\n",
              "      <td>21.280190</td>\n",
              "    </tr>\n",
              "    <tr>\n",
              "      <th>20%</th>\n",
              "      <td>22.090000</td>\n",
              "      <td>51.918705</td>\n",
              "      <td>23.107321</td>\n",
              "    </tr>\n",
              "    <tr>\n",
              "      <th>30%</th>\n",
              "      <td>23.490000</td>\n",
              "      <td>57.829678</td>\n",
              "      <td>24.181601</td>\n",
              "    </tr>\n",
              "    <tr>\n",
              "      <th>50%</th>\n",
              "      <td>26.375000</td>\n",
              "      <td>72.882553</td>\n",
              "      <td>26.608685</td>\n",
              "    </tr>\n",
              "    <tr>\n",
              "      <th>max</th>\n",
              "      <td>37.189999</td>\n",
              "      <td>108.169998</td>\n",
              "      <td>37.642250</td>\n",
              "    </tr>\n",
              "  </tbody>\n",
              "</table>\n",
              "</div>"
            ],
            "text/plain": [
              "            ANZ.AX       CBA.AX       NAB.AX\n",
              "count  3214.000000  3212.000000  3212.000000\n",
              "mean     25.874902    68.705208    26.603540\n",
              "std       4.803331    15.493437     4.389994\n",
              "min      11.890000    23.940290    13.880000\n",
              "10%      19.320000    49.015433    21.280190\n",
              "20%      22.090000    51.918705    23.107321\n",
              "30%      23.490000    57.829678    24.181601\n",
              "50%      26.375000    72.882553    26.608685\n",
              "max      37.189999   108.169998    37.642250"
            ]
          },
          "metadata": {},
          "execution_count": 42
        }
      ]
    },
    {
      "cell_type": "markdown",
      "metadata": {
        "id": "efy-YAV1ph8T"
      },
      "source": [
        "## Step 7: Plot and save"
      ]
    },
    {
      "cell_type": "code",
      "metadata": {
        "id": "O3EPGjFqpS4-",
        "colab": {
          "base_uri": "https://localhost:8080/",
          "height": 416
        },
        "outputId": "e4001646-f985-47c1-e7c2-ee984e6db68b"
      },
      "source": [
        "Close.plot(figsize=(12,7))\n",
        "plt.savefig(\"Aussiebanks.png\")"
      ],
      "execution_count": null,
      "outputs": [
        {
          "output_type": "display_data",
          "data": {
            "image/png": "[encoded data removed]",
            "text/plain": [
              "<Figure size 864x504 with 1 Axes>"
            ]
          },
          "metadata": {
            "needs_background": "light"
          }
        }
      ]
    },
    {
      "cell_type": "code",
      "metadata": {
        "id": "Y8YwnN7K9KHA"
      },
      "source": [
        ""
      ],
      "execution_count": null,
      "outputs": []
    }
  ]
}